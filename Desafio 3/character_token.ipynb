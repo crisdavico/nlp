{
 "cells": [
  {
   "cell_type": "markdown",
   "metadata": {},
   "source": [
    "# Consigna\n",
    "- Seleccionar un corpus de texto sobre el cual entrenar el modelo de lenguaje.\n",
    "- Realizar el pre-procesamiento adecuado para tokenizar el corpus, estructurar el dataset y separar entre datos de entrenamiento y validación.\n",
    "- Proponer arquitecturas de redes neuronales basadas en unidades recurrentes para implementar un modelo de lenguaje.\n",
    "- Con el o los modelos que consideren adecuados, generar nuevas secuencias a partir de secuencias de contexto con las estrategias de greedy search y beam search determístico y estocástico. En este último caso observar el efecto de la temperatura en la generación de secuencias.\n",
    "\n",
    "**Sugerencias**\n",
    "- Durante el entrenamiento, guiarse por el descenso de la perplejidad en los datos de validación para finalizar el entrenamiento. Para ello se provee un callback.\n",
    "- Explorar utilizar SimpleRNN (celda de Elman), LSTM y GRU.\n",
    "- rmsprop es el optimizador recomendado para la buena convergencia. No obstante se pueden explorar otros."
   ]
  },
  {
   "cell_type": "markdown",
   "metadata": {},
   "source": [
    "# Librerias"
   ]
  },
  {
   "cell_type": "code",
   "execution_count": 19,
   "metadata": {},
   "outputs": [],
   "source": [
    "import random\n",
    "import io\n",
    "import pickle\n",
    "\n",
    "import numpy as np\n",
    "import pandas as pd\n",
    "import matplotlib.pyplot as plt\n",
    "import seaborn as sns\n",
    "from sklearn.model_selection import train_test_split\n",
    "\n",
    "import tensorflow as tf\n",
    "from tensorflow import keras\n",
    "from tensorflow.keras import layers\n",
    "from keras.utils import to_categorical, pad_sequences\n",
    "from keras.models import Sequential\n",
    "from keras.layers import Dense, LSTM, Embedding, Dropout\n",
    "from tensorflow.keras.losses import SparseCategoricalCrossentropy\n",
    "from tensorflow.keras.preprocessing.text import Tokenizer, text_to_word_sequence\n",
    "\n",
    "import gradio as gr\n",
    "from scipy.special import softmax"
   ]
  },
  {
   "cell_type": "markdown",
   "metadata": {},
   "source": [
    "# Datos"
   ]
  },
  {
   "cell_type": "code",
   "execution_count": 20,
   "metadata": {},
   "outputs": [
    {
     "data": {
      "text/html": [
       "<div>\n",
       "<style scoped>\n",
       "    .dataframe tbody tr th:only-of-type {\n",
       "        vertical-align: middle;\n",
       "    }\n",
       "\n",
       "    .dataframe tbody tr th {\n",
       "        vertical-align: top;\n",
       "    }\n",
       "\n",
       "    .dataframe thead th {\n",
       "        text-align: right;\n",
       "    }\n",
       "</style>\n",
       "<table border=\"1\" class=\"dataframe\">\n",
       "  <thead>\n",
       "    <tr style=\"text-align: right;\">\n",
       "      <th></th>\n",
       "      <th>0</th>\n",
       "    </tr>\n",
       "  </thead>\n",
       "  <tbody>\n",
       "    <tr>\n",
       "      <th>0</th>\n",
       "      <td>Estudio en Escarlata</td>\n",
       "    </tr>\n",
       "    <tr>\n",
       "      <th>1</th>\n",
       "      <td>Por</td>\n",
       "    </tr>\n",
       "    <tr>\n",
       "      <th>2</th>\n",
       "      <td>Arthur Conan Doyle</td>\n",
       "    </tr>\n",
       "    <tr>\n",
       "      <th>3</th>\n",
       "      <td>PRIMERA PARTE</td>\n",
       "    </tr>\n",
       "    <tr>\n",
       "      <th>4</th>\n",
       "      <td>(Reimpresión de las memorias</td>\n",
       "    </tr>\n",
       "    <tr>\n",
       "      <th>5</th>\n",
       "      <td>de John H. Watson, doctor en medicina y oficia...</td>\n",
       "    </tr>\n",
       "    <tr>\n",
       "      <th>6</th>\n",
       "      <td>Sanidad)</td>\n",
       "    </tr>\n",
       "    <tr>\n",
       "      <th>7</th>\n",
       "      <td>1.</td>\n",
       "    </tr>\n",
       "    <tr>\n",
       "      <th>8</th>\n",
       "      <td>Mr. Sherlock Holmes</td>\n",
       "    </tr>\n",
       "    <tr>\n",
       "      <th>9</th>\n",
       "      <td>En el año 1878 obtuve el título de doctor en m...</td>\n",
       "    </tr>\n",
       "  </tbody>\n",
       "</table>\n",
       "</div>"
      ],
      "text/plain": [
       "                                                   0\n",
       "0                               Estudio en Escarlata\n",
       "1                                                Por\n",
       "2                                 Arthur Conan Doyle\n",
       "3                                      PRIMERA PARTE\n",
       "4                       (Reimpresión de las memorias\n",
       "5  de John H. Watson, doctor en medicina y oficia...\n",
       "6                                           Sanidad)\n",
       "7                                                 1.\n",
       "8                                Mr. Sherlock Holmes\n",
       "9  En el año 1878 obtuve el título de doctor en m..."
      ]
     },
     "execution_count": 20,
     "metadata": {},
     "output_type": "execute_result"
    }
   ],
   "source": [
    "df = pd.read_csv('.\\estudio_en_escarlata.txt', sep='/n', header=None, engine='python')\n",
    "df.head(10)"
   ]
  },
  {
   "cell_type": "code",
   "execution_count": 21,
   "metadata": {},
   "outputs": [
    {
     "name": "stdout",
     "output_type": "stream",
     "text": [
      "Cantidad de documentos: 3837\n"
     ]
    }
   ],
   "source": [
    "print(\"Cantidad de documentos:\", df.shape[0])"
   ]
  },
  {
   "cell_type": "markdown",
   "metadata": {},
   "source": [
    "# Elegir el tamaño del contexto"
   ]
  },
  {
   "cell_type": "code",
   "execution_count": 22,
   "metadata": {},
   "outputs": [
    {
     "name": "stdout",
     "output_type": "stream",
     "text": [
      "Max context size (sin tokenización): 16\n",
      "Oración 1: estudio en escarlata\n",
      "Oración 2: por\n",
      "Oración 3: arthur conan doyle\n",
      "Oración 4: primera parte\n",
      "Oración 5: reimpresión de las memorias\n",
      "Oración 6: de john h watson doctor en medicina y oficial retirado del cuerpo de\n",
      "Oración 7: sanidad\n",
      "Oración 8: 1\n",
      "Oración 9: mr sherlock holmes\n",
      "Oración 10: en el año 1878 obtuve el título de doctor en medicina por la universidad\n"
     ]
    }
   ],
   "source": [
    "# Paso 1: Cargamos el texto sin tokenizar desde el DataFrame\n",
    "text = list(df.loc[:, 0])\n",
    "\n",
    "# Paso 2: Segmentamos las oraciones en listas de palabras usando 'text_to_word_sequence' sin tokenización a índices\n",
    "segmented_sentences = [text_to_word_sequence(sentence) for sentence in text]\n",
    "\n",
    "# Paso 3: Calculamos la longitud de cada secuencia (en palabras)\n",
    "length_sentences = np.array([len(sentence) for sentence in segmented_sentences])\n",
    "\n",
    "# Paso 4: Usamos el percentil 90 para determinar el tamaño máximo de contexto (sin tokenización)\n",
    "max_context_size = int(np.percentile(length_sentences, 99) - 1)\n",
    "\n",
    "# Mostramos el resultado\n",
    "print(f'Max context size (sin tokenización): {max_context_size}')\n",
    "\n",
    "for i, sentence in enumerate(segmented_sentences[:10]):  # Puedes ajustar el número de oraciones que deseas mostrar\n",
    "    print(f\"Oración {i+1}: {' '.join(sentence)}\")"
   ]
  },
  {
   "cell_type": "code",
   "execution_count": 23,
   "metadata": {},
   "outputs": [
    {
     "name": "stdout",
     "output_type": "stream",
     "text": [
      "max_context_size: 80\n",
      "[[ 0  0  0  0 10  2  1  9  4  6 10  7  2  5 17  1  3  5  8  5 11  8  2  6\n",
      "  10  4  1 10  2  5 15 12 29  5  1  2  6  1  6  2 11  9  2 24  1  3  1  9\n",
      "   4  5  1 13 12  7  5  4  5  1 23 12  2  1  5  4  6  1 10  2  1  7  8 21\n",
      "   4  7  1  3  6 11  2  5]\n",
      " [ 0  0  0  0  0  0  0 10  2  1  8  6 21  7  2  5  3  7  1 13  4 14  4  1\n",
      "  14 29 10  8 13  4  1  2  6  1  2  9  1  2 28 29  7 13  8 11  4 19  1 13\n",
      "   4  6 13  9 12  8 10  4  5  1  3  9  9 25  1 14  8  5  1  2  5 11 12 10\n",
      "   8  4  5 17  1 27 12  8]\n",
      " [ 0  0  0  0  0  0 15 12  6 11 12  3  9 14  2  6 11  2  1 10  2  5 11  8\n",
      "   6  3 10  4  1  2  9  1 52 19 60  1 10  2  1 27 12  5  8  9  2  7  4  5\n",
      "   1 10  2  1  6  4  7 11 18 12 14 16  2  7  9  3  6 10  1  2  6  1 13  3\n",
      "   9  8 10  3 10  1 10  2]\n",
      " [ 0  0  0  0  0  0  0  0 14 29 10  8 13  4  1  3 24 12 10  3  6 11  2 19\n",
      "   1  2  9  1  7  2 21  8 14  8  2  6 11  4  1  5  2  1 18  3  9  9  3 16\n",
      "   3  1 15  4  7  1  2  6 11  4  6 13  2  5  1  2  5 11  3 13  8  4  6  3\n",
      "  10  4  1  2  6  1  9  3]\n",
      " [ 0  0  0  0  0  0  0  0  0  8  6 10  8  3 17  1 24  1  3  6 11  2  5  1\n",
      "  10  2  1 23 12  2  1 15 12 10  8  2  7  3  1 12  6  8  7 14  2  1  3  1\n",
      "  29  9 17  1  2  5 11  3  9  9 26  1  9  3  1  5  2 21 12  6 10  3  1 21\n",
      "  12  2  7  7  3  1 10  2]\n",
      " [ 0  0  0  0  3 27 21  3  6  8  5 11 31  6 19  1  3  9  1 10  2  5  2 14\n",
      "  16  3  7 13  3  7  1  2  6  1 16  4 14 16  3 24  1 14  2  1  9  9  2 21\n",
      "  26  1  9  3  1  6  4 11  8 13  8  3  1 10  2  1 23 12  2  1  9  3  5  1\n",
      "  11  7  4 15  3  5  1  3]\n",
      " [ 0  0  0  0  0  9  3  5  1 23 12  2  1  2  5 11  3 16  3  1  3 21  7  2\n",
      "  21  3 10  4  1 18  3 16 25  3  6  1 11  7  3  5 15 12  2  5 11  4  1  9\n",
      "   3  1  9 25  6  2  3  1 14  4  6 11  3 32  4  5  3 17  1 14 12 24  1 10\n",
      "   2  6 11  7  4  1 24  3]\n",
      " [ 0  0  0  0 10  2  1 11  2  7  7  8 11  4  7  8  4  1  2  6  2 14  8 21\n",
      "   4 19  1  5  2 21 12 25 17  1  5  8  6  1  2 14 16  3  7 21  4 17  1 13\n",
      "   3 14  8  6  4  1 13  4  6  1 14 12 13 18  4  5  1  4 11  7  4  5  1  4\n",
      "  27  8 13  8  3  9  2  5]\n",
      " [ 0  0  0  0  0  0  0  0  2  6  1 15  3  7  2 13  8 10  3  1  5  8 11 12\n",
      "   3 13  8 26  6  1  3  1  9  3  1 14 25  3 17  1 18  3  5 11  3  1 13  3\n",
      "   6 10  3 18  3  7 17  1 10  4  6 10  2  1  5  3  6  4  1 24  1  5  3  9\n",
      "  22  4 17  1 24  1  2  6]\n",
      " [ 0  0  0  0  0  0  0 13  4 14 15  3 32 25  3  1 15  4  7  1 27  8  6  1\n",
      "  10  2  9  1  7  2 21  8 14  8  2  6 11  4 17  1 14  2  1  8  6 13  4  7\n",
      "  15  4  7 29  1  5  8  6  1 14 31  5  1 10  8  9  3 13  8 26  6  1  3  1\n",
      "  14  8  1  6 12  2 22  4]]\n"
     ]
    }
   ],
   "source": [
    "# cada verso lo guardamos en una lista\n",
    "text = list(df.loc[:, 0])\n",
    "\n",
    "# Inicializamos el tokenizador de Keras y ajustamos al corpus\n",
    "tokenizer = Tokenizer(char_level=True)\n",
    "tokenizer.fit_on_texts(text)\n",
    "\n",
    "# Convertimos el texto en secuencias de tokens\n",
    "sequences = tokenizer.texts_to_sequences(text)\n",
    "\n",
    "# Calculamos las longitudes de las secuencias\n",
    "length_sentences = np.array([len(sequence) for sequence in sequences])\n",
    "\n",
    "# Usamos el percentil 90 para determinar el máximo tamaño de contexto\n",
    "max_context_size = int(np.percentile(length_sentences, 99) - 1)\n",
    "\n",
    "# max_context_size = int(np.ceil(np.mean(length_sentences))) # criterio de media\n",
    "# max_context_size = int(np.ceil(np.median(length_sentences))) # criterio de mediana\n",
    "\n",
    "print(f'max_context_size: {max_context_size}')\n",
    "\n",
    "# Aplicamos padding a todas las secuencias a partir del max_context_size\n",
    "tokenized_sentences = pad_sequences(sequences, maxlen=max_context_size)\n",
    "\n",
    "# Mostramos las primeras secuencias con padding\n",
    "print(tokenized_sentences[10:20])"
   ]
  },
  {
   "cell_type": "markdown",
   "metadata": {},
   "source": [
    "# Organizando y estructurando el dataset"
   ]
  },
  {
   "cell_type": "code",
   "execution_count": 24,
   "metadata": {},
   "outputs": [],
   "source": [
    "tokenized_sentences_train, tokenized_sentences_val, _, _ = train_test_split(tokenized_sentences, tokenized_sentences, test_size=0.2, random_state=42)"
   ]
  },
  {
   "cell_type": "code",
   "execution_count": 25,
   "metadata": {},
   "outputs": [],
   "source": [
    "tok_sent = []\n",
    "\n",
    "for sent in tokenized_sentences_train:\n",
    "\n",
    "  # si la secuencia tiene más términos que el tamaño de contexto máximo,\n",
    "  # armo varias sub-secuencias de tamaño máximo\n",
    "  if len(sent) > (max_context_size+1):\n",
    "    extra = len(sent)-(max_context_size+1) + 1\n",
    "    for i in range(extra):\n",
    "      tok_sent.append(sent[i:i+max_context_size+1])\n",
    "  else: # si la secuencia tiene menos términos el tamaño de contexto máximo, dejo la secuencia como está\n",
    "    tok_sent.append(sent)"
   ]
  },
  {
   "cell_type": "code",
   "execution_count": 26,
   "metadata": {},
   "outputs": [
    {
     "data": {
      "text/plain": [
       "3069"
      ]
     },
     "execution_count": 26,
     "metadata": {},
     "output_type": "execute_result"
    }
   ],
   "source": [
    "len(tok_sent)"
   ]
  },
  {
   "cell_type": "code",
   "execution_count": 27,
   "metadata": {},
   "outputs": [],
   "source": [
    "tok_sent_augm = []\n",
    "\n",
    "for sent in tok_sent:\n",
    "\n",
    "  # generamos todas las sub-secuencias\n",
    "  subseq = [sent[:i+2] for i in range(len(sent)-1)]\n",
    "  # en esta línea paddeamos al tamaño de contexto máximo\n",
    "  tok_sent_augm.append(pad_sequences(subseq, maxlen=max_context_size+1, padding='pre'))"
   ]
  },
  {
   "cell_type": "code",
   "execution_count": 28,
   "metadata": {},
   "outputs": [],
   "source": [
    "# finalmente concatenamos todas las secuencias en un único array de numpy\n",
    "train_seqs = np.concatenate(tok_sent_augm, axis=0)"
   ]
  },
  {
   "cell_type": "code",
   "execution_count": 29,
   "metadata": {},
   "outputs": [
    {
     "data": {
      "text/plain": [
       "(242451, 81)"
      ]
     },
     "execution_count": 29,
     "metadata": {},
     "output_type": "execute_result"
    }
   ],
   "source": [
    "train_seqs.shape"
   ]
  },
  {
   "cell_type": "code",
   "execution_count": 30,
   "metadata": {},
   "outputs": [],
   "source": [
    "# y de aquí sacamos las entradas y los targets que consumirá nuestro sistema en\n",
    "# tiempo de entrenamiento\n",
    "X = train_seqs[:,:-1]\n",
    "y = train_seqs[:,-1]"
   ]
  },
  {
   "cell_type": "code",
   "execution_count": 31,
   "metadata": {},
   "outputs": [
    {
     "data": {
      "text/plain": [
       "64"
      ]
     },
     "execution_count": 31,
     "metadata": {},
     "output_type": "execute_result"
    }
   ],
   "source": [
    "# Cantidad de palabras en el vocabulario\n",
    "vocab_size = len(tokenizer.word_counts)\n",
    "vocab_size"
   ]
  },
  {
   "cell_type": "markdown",
   "metadata": {},
   "source": [
    "# Modelos"
   ]
  },
  {
   "cell_type": "markdown",
   "metadata": {},
   "source": [
    "## Callbacks"
   ]
  },
  {
   "cell_type": "code",
   "execution_count": 32,
   "metadata": {},
   "outputs": [],
   "source": [
    "class PerplexityCallback(keras.callbacks.Callback):\n",
    "    def __init__(self):\n",
    "        super().__init__()\n",
    "        self.perplexities = []\n",
    "\n",
    "    def on_epoch_end(self, epoch, logs=None):\n",
    "        if logs is not None:\n",
    "            # Calcular la perplexity al final de cada época\n",
    "            ppl = np.exp(logs['loss'])\n",
    "            self.perplexities.append(ppl)\n",
    "            print(f'\\n Perplexity after epoch {epoch+1}: {ppl:.4f}')"
   ]
  },
  {
   "cell_type": "markdown",
   "metadata": {},
   "source": [
    "## LSTM"
   ]
  },
  {
   "cell_type": "code",
   "execution_count": 33,
   "metadata": {},
   "outputs": [
    {
     "name": "stdout",
     "output_type": "stream",
     "text": [
      "Model: \"sequential_1\"\n",
      "_________________________________________________________________\n",
      " Layer (type)                Output Shape              Param #   \n",
      "=================================================================\n",
      " embedding_1 (Embedding)     (None, 80, 30)            1950      \n",
      "                                                                 \n",
      " lstm_2 (LSTM)               (None, 80, 64)            24320     \n",
      "                                                                 \n",
      " dropout_1 (Dropout)         (None, 80, 64)            0         \n",
      "                                                                 \n",
      " lstm_3 (LSTM)               (None, 64)                33024     \n",
      "                                                                 \n",
      " dense_2 (Dense)             (None, 50)                3250      \n",
      "                                                                 \n",
      " dense_3 (Dense)             (None, 65)                3315      \n",
      "                                                                 \n",
      "=================================================================\n",
      "Total params: 65859 (257.26 KB)\n",
      "Trainable params: 65859 (257.26 KB)\n",
      "Non-trainable params: 0 (0.00 Byte)\n",
      "_________________________________________________________________\n"
     ]
    }
   ],
   "source": [
    "model = Sequential()\n",
    "model.add(Embedding(input_dim=vocab_size+1, output_dim=30, input_shape=(max_context_size,)))\n",
    "model.add(LSTM(64, return_sequences=True))\n",
    "model.add(Dropout(0.2))\n",
    "model.add(LSTM(64)) # La última capa LSTM no lleva return_sequences\n",
    "model.add(Dense(50, activation='relu'))\n",
    "model.add(Dense(vocab_size+1, activation='softmax'))\n",
    "model.compile(loss=SparseCategoricalCrossentropy(), optimizer='adam')\n",
    "model.summary()"
   ]
  },
  {
   "cell_type": "code",
   "execution_count": 34,
   "metadata": {},
   "outputs": [
    {
     "name": "stdout",
     "output_type": "stream",
     "text": [
      "Epoch 1/15\n",
      "118/118 [==============================] - ETA: 0s - loss: 2.9101\n",
      " Perplexity after epoch 1: 18.3594\n",
      "118/118 [==============================] - 112s 930ms/step - loss: 2.9101\n",
      "Epoch 2/15\n",
      "118/118 [==============================] - ETA: 0s - loss: 2.5307\n",
      " Perplexity after epoch 2: 12.5627\n",
      "118/118 [==============================] - 116s 985ms/step - loss: 2.5307\n",
      "Epoch 3/15\n",
      "118/118 [==============================] - ETA: 0s - loss: 2.5147\n",
      " Perplexity after epoch 3: 12.3624\n",
      "118/118 [==============================] - 113s 958ms/step - loss: 2.5147\n",
      "Epoch 4/15\n",
      "118/118 [==============================] - ETA: 0s - loss: 2.4172\n",
      " Perplexity after epoch 4: 11.2148\n",
      "118/118 [==============================] - 115s 972ms/step - loss: 2.4172\n",
      "Epoch 5/15\n",
      "118/118 [==============================] - ETA: 0s - loss: 2.1829\n",
      " Perplexity after epoch 5: 8.8716\n",
      "118/118 [==============================] - 129s 1s/step - loss: 2.1829\n",
      "Epoch 6/15\n",
      "118/118 [==============================] - ETA: 0s - loss: 2.0790\n",
      " Perplexity after epoch 6: 7.9961\n",
      "118/118 [==============================] - 132s 1s/step - loss: 2.0790\n",
      "Epoch 7/15\n",
      "118/118 [==============================] - ETA: 0s - loss: 2.0297\n",
      " Perplexity after epoch 7: 7.6119\n",
      "118/118 [==============================] - 137s 1s/step - loss: 2.0297\n",
      "Epoch 8/15\n",
      "118/118 [==============================] - ETA: 0s - loss: 1.9853\n",
      " Perplexity after epoch 8: 7.2815\n",
      "118/118 [==============================] - 129s 1s/step - loss: 1.9853\n",
      "Epoch 9/15\n",
      "118/118 [==============================] - ETA: 0s - loss: 1.9453\n",
      " Perplexity after epoch 9: 6.9957\n",
      "118/118 [==============================] - 134s 1s/step - loss: 1.9453\n",
      "Epoch 10/15\n",
      "118/118 [==============================] - ETA: 0s - loss: 1.9148\n",
      " Perplexity after epoch 10: 6.7854\n",
      "118/118 [==============================] - 198s 2s/step - loss: 1.9148\n",
      "Epoch 11/15\n",
      "118/118 [==============================] - ETA: 0s - loss: 1.8903\n",
      " Perplexity after epoch 11: 6.6215\n",
      "118/118 [==============================] - 198s 2s/step - loss: 1.8903\n",
      "Epoch 12/15\n",
      "118/118 [==============================] - ETA: 0s - loss: 1.8700\n",
      " Perplexity after epoch 12: 6.4881\n",
      "118/118 [==============================] - 204s 2s/step - loss: 1.8700\n",
      "Epoch 13/15\n",
      "118/118 [==============================] - ETA: 0s - loss: 1.8520\n",
      " Perplexity after epoch 13: 6.3723\n",
      "118/118 [==============================] - 199s 2s/step - loss: 1.8520\n",
      "Epoch 14/15\n",
      "118/118 [==============================] - ETA: 0s - loss: 1.8350\n",
      " Perplexity after epoch 14: 6.2651\n",
      "118/118 [==============================] - 197s 2s/step - loss: 1.8350\n",
      "Epoch 15/15\n",
      "118/118 [==============================] - ETA: 0s - loss: 1.8206\n",
      " Perplexity after epoch 15: 6.1754\n",
      "118/118 [==============================] - 199s 2s/step - loss: 1.8206\n"
     ]
    }
   ],
   "source": [
    "# Entrenar el modelo con el callback de perplexity\n",
    "ppl_callback = PerplexityCallback()\n",
    "hist = model.fit(X, y, epochs=15, batch_size=2056, callbacks=[ppl_callback])"
   ]
  },
  {
   "cell_type": "code",
   "execution_count": 35,
   "metadata": {},
   "outputs": [
    {
     "data": {
      "image/png": "[encoded data removed]",
      "text/plain": [
       "<Figure size 800x600 with 1 Axes>"
      ]
     },
     "metadata": {},
     "output_type": "display_data"
    }
   ],
   "source": [
    "# Graficar la Perplexity por época\n",
    "plt.figure(figsize=(8, 6))\n",
    "plt.plot(ppl_callback.perplexities, label='Perplexity')\n",
    "plt.title('Evolución de la Perplexity durante el Entrenamiento')\n",
    "plt.xlabel('Épocas')\n",
    "plt.ylabel('Perplexity')\n",
    "plt.legend()\n",
    "plt.grid(True)\n",
    "plt.show()"
   ]
  },
  {
   "cell_type": "markdown",
   "metadata": {},
   "source": [
    "### Greedy Search"
   ]
  },
  {
   "cell_type": "code",
   "execution_count": 36,
   "metadata": {},
   "outputs": [],
   "source": [
    "def generate_seq(model, tokenizer, seed_text, max_length, n_words):\n",
    "    \"\"\"\n",
    "        Exec model sequence prediction\n",
    "\n",
    "        Args:\n",
    "            model (keras): modelo entrenado\n",
    "            tokenizer (keras tokenizer): tonenizer utilizado en el preprocesamiento\n",
    "            seed_text (string): texto de entrada (input_seq)\n",
    "            max_length (int): máxima longitud de la sequencia de entrada\n",
    "            n_words (int): números de palabras a agregar a la sequencia de entrada\n",
    "        returns:\n",
    "            output_text (string): sentencia con las \"n_words\" agregadas\n",
    "    \"\"\"\n",
    "    output_text = seed_text\n",
    "\t# generate a fixed number of words\n",
    "    for _ in range(n_words):\n",
    "\t\t# Encodeamos\n",
    "        encoded = tokenizer.texts_to_sequences([output_text])[0]\n",
    "\t\t# Si tienen distinto largo\n",
    "        encoded = pad_sequences([encoded], maxlen=max_length, padding='pre')\n",
    "\n",
    "\t\t# Predicción softmax\n",
    "        y_hat = model.predict(encoded).argmax(axis=-1)\n",
    "\t\t# Vamos concatenando las predicciones\n",
    "        out_word = ''\n",
    "\n",
    "        # Debemos buscar en el vocabulario la palabra\n",
    "        # que corresopnde al indice (y_hat) predicho por le modelo\n",
    "        for word, index in tokenizer.word_index.items():\n",
    "            if index == y_hat:\n",
    "                out_word = word\n",
    "                break\n",
    "\n",
    "\t\t# Agrego las palabras a la frase predicha\n",
    "        output_text += ' ' + out_word\n",
    "    return output_text"
   ]
  },
  {
   "cell_type": "code",
   "execution_count": 37,
   "metadata": {},
   "outputs": [
    {
     "name": "stdout",
     "output_type": "stream",
     "text": [
      "1/1 [==============================] - 1s 902ms/step\n",
      "1/1 [==============================] - 0s 24ms/step\n"
     ]
    },
    {
     "data": {
      "text/plain": [
       "'En el año 1878 obtuve n a'"
      ]
     },
     "execution_count": 37,
     "metadata": {},
     "output_type": "execute_result"
    }
   ],
   "source": [
    "input_text='En el año 1878 obtuve'\n",
    "\n",
    "generate_seq(model, tokenizer, input_text, max_length=max_context_size, n_words=2)"
   ]
  },
  {
   "cell_type": "markdown",
   "metadata": {},
   "source": [
    "### Beam Search"
   ]
  },
  {
   "cell_type": "code",
   "execution_count": 38,
   "metadata": {},
   "outputs": [],
   "source": [
    "# funcionalidades para hacer encoding y decoding\n",
    "\n",
    "def encode(text,max_length=max_context_size):\n",
    "\n",
    "    encoded = tokenizer.texts_to_sequences([text])[0]\n",
    "    encoded = pad_sequences([encoded], maxlen=max_length, padding='pre')\n",
    "\n",
    "    return encoded\n",
    "\n",
    "def decode(seq):\n",
    "    return tokenizer.sequences_to_texts([seq])\n",
    "\n",
    "# función que selecciona candidatos para el beam search\n",
    "def select_candidates(pred,num_beams,vocab_size,history_probs,history_tokens,temp=1):\n",
    "\n",
    "  # colectar todas las probabilidades para la siguiente búsqueda\n",
    "  pred_large = []\n",
    "\n",
    "  for idx,pp in enumerate(pred):\n",
    "    pred_large.extend(np.log(pp+1E-10)+history_probs[idx])\n",
    "\n",
    "  pred_large = np.array(pred_large)\n",
    "\n",
    "  # criterio de selección\n",
    "  # idx_select = np.argsort(pred_large)[::-1][:num_beams] # beam search determinista\n",
    "  idx_select = np.random.choice(np.arange(pred_large.shape[0]), num_beams, p=softmax(pred_large/temp)) # beam search con muestreo\n",
    "\n",
    "  # traducir a índices de token en el vocabulario\n",
    "  new_history_tokens = np.concatenate((np.array(history_tokens)[idx_select//vocab_size],\n",
    "                        np.array([idx_select%vocab_size]).T),\n",
    "                      axis=1)\n",
    "\n",
    "  # devolver el producto de las probabilidades (log) y la secuencia de tokens seleccionados\n",
    "  return pred_large[idx_select.astype(int)], new_history_tokens.astype(int)\n",
    "\n",
    "\n",
    "def beam_search(model,num_beams,num_words,input, temp):\n",
    "\n",
    "    # first iteration\n",
    "\n",
    "    # encode\n",
    "    encoded = encode(input)\n",
    "\n",
    "    # first prediction\n",
    "    y_hat = np.squeeze(model.predict(encoded))\n",
    "\n",
    "    # get vocabulary size\n",
    "    vocab_size = y_hat.shape[0]\n",
    "\n",
    "    # initialize history\n",
    "    history_probs = [0]*num_beams\n",
    "    history_tokens = [encoded[0]]*num_beams\n",
    "\n",
    "    # select num_beams candidates\n",
    "    history_probs, history_tokens = select_candidates([y_hat],\n",
    "                                        num_beams,\n",
    "                                        vocab_size,\n",
    "                                        history_probs,\n",
    "                                        history_tokens,\n",
    "                                        temp=temp)\n",
    "\n",
    "    # beam search loop\n",
    "    for i in range(num_words-1):\n",
    "\n",
    "      preds = []\n",
    "\n",
    "      for hist in history_tokens:\n",
    "\n",
    "        # actualizar secuencia de tokens\n",
    "        input_update = np.array([hist[i+1:]]).copy()\n",
    "\n",
    "        # predicción\n",
    "        y_hat = np.squeeze(model.predict(input_update))\n",
    "\n",
    "        preds.append(y_hat)\n",
    "\n",
    "      history_probs, history_tokens = select_candidates(preds,\n",
    "                                                        num_beams,\n",
    "                                                        vocab_size,\n",
    "                                                        history_probs,\n",
    "                                                        history_tokens,\n",
    "                                                        temp)\n",
    "\n",
    "    return history_tokens"
   ]
  },
  {
   "cell_type": "code",
   "execution_count": 39,
   "metadata": {},
   "outputs": [
    {
     "name": "stdout",
     "output_type": "stream",
     "text": [
      "1/1 [==============================] - 0s 26ms/step\n",
      "1/1 [==============================] - 0s 25ms/step\n",
      "1/1 [==============================] - 0s 25ms/step\n",
      "1/1 [==============================] - 0s 27ms/step\n",
      "1/1 [==============================] - 0s 24ms/step\n",
      "1/1 [==============================] - 0s 26ms/step\n",
      "1/1 [==============================] - 0s 24ms/step\n",
      "1/1 [==============================] - 0s 23ms/step\n",
      "1/1 [==============================] - 0s 31ms/step\n",
      "1/1 [==============================] - 0s 25ms/step\n",
      "1/1 [==============================] - 0s 24ms/step\n",
      "1/1 [==============================] - 0s 34ms/step\n",
      "1/1 [==============================] - 0s 24ms/step\n",
      "1/1 [==============================] - 0s 24ms/step\n",
      "1/1 [==============================] - 0s 27ms/step\n",
      "1/1 [==============================] - 0s 24ms/step\n",
      "1/1 [==============================] - 0s 27ms/step\n",
      "1/1 [==============================] - 0s 23ms/step\n",
      "1/1 [==============================] - 0s 25ms/step\n",
      "1/1 [==============================] - 0s 25ms/step\n",
      "1/1 [==============================] - 0s 24ms/step\n",
      "1/1 [==============================] - 0s 28ms/step\n",
      "1/1 [==============================] - 0s 25ms/step\n",
      "1/1 [==============================] - 0s 34ms/step\n",
      "1/1 [==============================] - 0s 29ms/step\n",
      "1/1 [==============================] - 0s 26ms/step\n",
      "1/1 [==============================] - 0s 26ms/step\n",
      "1/1 [==============================] - 0s 27ms/step\n",
      "1/1 [==============================] - 0s 25ms/step\n",
      "1/1 [==============================] - 0s 26ms/step\n",
      "1/1 [==============================] - 0s 30ms/step\n",
      "1/1 [==============================] - 0s 26ms/step\n",
      "1/1 [==============================] - 0s 28ms/step\n",
      "1/1 [==============================] - 0s 26ms/step\n",
      "1/1 [==============================] - 0s 29ms/step\n",
      "1/1 [==============================] - 0s 24ms/step\n",
      "1/1 [==============================] - 0s 27ms/step\n",
      "1/1 [==============================] - 0s 23ms/step\n",
      "1/1 [==============================] - 0s 25ms/step\n",
      "1/1 [==============================] - 0s 29ms/step\n",
      "1/1 [==============================] - 0s 25ms/step\n",
      "1/1 [==============================] - 0s 23ms/step\n",
      "1/1 [==============================] - 0s 25ms/step\n",
      "1/1 [==============================] - 0s 28ms/step\n",
      "1/1 [==============================] - 0s 27ms/step\n",
      "1/1 [==============================] - 0s 35ms/step\n",
      "1/1 [==============================] - 0s 27ms/step\n",
      "1/1 [==============================] - 0s 24ms/step\n",
      "1/1 [==============================] - 0s 27ms/step\n",
      "1/1 [==============================] - 0s 26ms/step\n",
      "1/1 [==============================] - 0s 24ms/step\n"
     ]
    }
   ],
   "source": [
    "salidas = beam_search(model,num_beams=10,num_words=6,input=\"El señor Gregson, que había atendido\", temp=0.1)"
   ]
  },
  {
   "cell_type": "code",
   "execution_count": 40,
   "metadata": {},
   "outputs": [
    {
     "data": {
      "text/plain": [
       "['e l   s e ñ o r   g r e g s o n ,   q u e   h a b í a   a t e n d i d o   d e   l a']"
      ]
     },
     "execution_count": 40,
     "metadata": {},
     "output_type": "execute_result"
    }
   ],
   "source": [
    "decode(salidas[0])"
   ]
  },
  {
   "cell_type": "markdown",
   "metadata": {},
   "source": [
    "# Conclusion"
   ]
  },
  {
   "cell_type": "markdown",
   "metadata": {},
   "source": [
    "El modelo ha logrado reducir su pérdida de manera considerable, alcanzando una **perplexity** final de 5.9585, lo que indica que el modelo ha aprendido a generar secuencias de texto con un nivel razonable de confianza. Dado que la Perplexity mide cuántas palabras el modelo considera posibles en promedio en cada paso, un valor cercano a 6 sugiere que, en promedio, el modelo está considerando 6 palabras como posibles candidatas en cada predicción. \n",
    "\n",
    "- **Pérdida final**: La pérdida final de 1.82 refleja que el modelo ha sido capaz de optimizar las probabilidades de predicción de las secuencias generadas. Aunque esta pérdida es relativamente baja, seguir afinando el modelo o ajustar hiperparámetros (como el tamaño del vocabulario, la arquitectura de la red, o el tamaño de la secuencia) podría mejorar aún más el rendimiento.\n",
    "\n",
    "### Uso de Beam Search\n",
    "\n",
    "En este ejercicio, se utilizó el algoritmo de **Beam Search** para mejorar la calidad de las secuencias generadas. A diferencia de una búsqueda codiciosa (greedy), Beam Search permite explorar múltiples secuencias a lo largo de la generación del texto, manteniendo las más probables en cada paso. Este enfoque ha permitido al modelo generar secuencias con mayor calidad, ya que considera una variedad más amplia de opciones antes de tomar decisiones finales.\n",
    "\n",
    "### Posibles mejoras\n",
    "- Se podrían explorar **variantes del Beam Search**, como **Diverse Beam Search**, para aumentar la diversidad en las secuencias generadas.\n",
    "- Ajustar el **tamaño del beam** podría mejorar la calidad de las secuencias generadas. Así tambien encontrar una temperatura ideal segun la utilidad que se le quiera dar\n",
    "- Probar con ajustes en el modelo, como la regularización o la arquitectura de la red, para intentar reducir aún más la perplexity y la pérdida."
   ]
  }
 ],
 "metadata": {
  "kernelspec": {
   "display_name": "nlp311",
   "language": "python",
   "name": "python3"
  },
  "language_info": {
   "codemirror_mode": {
    "name": "ipython",
    "version": 3
   },
   "file_extension": ".py",
   "mimetype": "text/x-python",
   "name": "python",
   "nbconvert_exporter": "python",
   "pygments_lexer": "ipython3",
   "version": "3.11.0"
  }
 },
 "nbformat": 4,
 "nbformat_minor": 2
}
